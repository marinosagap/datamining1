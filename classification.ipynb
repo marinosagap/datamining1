{
 "cells": [
  {
   "cell_type": "markdown",
   "metadata": {},
   "source": [
    "# Part 3 -- Classification"
   ]
  },
  {
   "cell_type": "markdown",
   "metadata": {},
   "source": [
    "The libraries that we are going to use:"
   ]
  },
  {
   "cell_type": "code",
   "execution_count": 1,
   "metadata": {
    "collapsed": true
   },
   "outputs": [],
   "source": [
    "import pandas as pd\n",
    "import numpy as np\n",
    "import csv\n",
    "import random\n",
    "import math\n",
    "import matplotlib.pyplot as plt1\n",
    "import matplotlib.pyplot as plt2\n",
    "import operator\n",
    "from operator import itemgetter\n",
    "from collections import Counter\n",
    "from wordcloud import STOPWORDS\n",
    "from sklearn.feature_extraction.text import ENGLISH_STOP_WORDS\n",
    "from sklearn.naive_bayes import MultinomialNB, BernoulliNB\n",
    "from sklearn.feature_extraction.text import TfidfTransformer\n",
    "from sklearn.feature_extraction.text import CountVectorizer\n",
    "from sklearn import svm\n",
    "from sklearn.ensemble import RandomForestClassifier, ExtraTreesClassifier\n",
    "from sklearn.metrics import classification_report, accuracy_score, auc\n",
    "from sklearn.model_selection import KFold\n",
    "from sklearn.decomposition import TruncatedSVD\n",
    "from sklearn.linear_model import SGDClassifier\n",
    "from sklearn import metrics"
   ]
  },
  {
   "cell_type": "markdown",
   "metadata": {},
   "source": [
    "## Setting up"
   ]
  },
  {
   "cell_type": "markdown",
   "metadata": {},
   "source": [
    "We are using a dictionary to map our Evaluation Metrics for each classifier in a way in which we can print the neatly in a \"board\" style when we are done."
   ]
  },
  {
   "cell_type": "code",
   "execution_count": 2,
   "metadata": {
    "collapsed": true
   },
   "outputs": [],
   "source": [
    "EvaluationMetric = {\n",
    "    'Statistic Measure':['Accuracy', 'Precision', 'Recall', 'F-Measure', 'AUC'], \n",
    "    'Naive Bayes':[] ,\n",
    "    'Random Forest':[],\n",
    "    'SVM':[],\n",
    "    'KNN':[] }"
   ]
  },
  {
   "cell_type": "code",
   "execution_count": 3,
   "metadata": {
    "collapsed": true
   },
   "outputs": [],
   "source": [
    "testSet = {'ID':[], 'Predicted_Category':[]}\n",
    "testSet_index = 0"
   ]
  },
  {
   "cell_type": "code",
   "execution_count": 4,
   "metadata": {
    "collapsed": true
   },
   "outputs": [],
   "source": [
    "mylist = {'Accuracy':[], 'Precision':[], 'Recall':[], 'F-Measure':[], 'AUC':[]}"
   ]
  },
  {
   "cell_type": "markdown",
   "metadata": {},
   "source": [
    "We load our data and we define a list and a dictionary to help us with our following operations. Then we define our stopwords and our vectorizer, which is a *count vectorizer*. Following the project's specifiction suggestions, we are going to use the 'Title' field as a classification criterion."
   ]
  },
  {
   "cell_type": "code",
   "execution_count": 5,
   "metadata": {
    "collapsed": true
   },
   "outputs": [],
   "source": [
    "# load our data\n",
    "test_data = pd.read_csv('test_set.csv', sep='\\t')\n",
    "train_data = pd.read_csv('train_set.csv', sep='\\t')\n",
    "\n",
    "# a list of our categories (taken as facts)\n",
    "categories = ['Politics','Football','Business','Technology','Film']\n",
    "\n",
    "# we will use a number to represent each of our categories\n",
    "category_dict = {'Politics':0, 'Football':1, 'Business':2, 'Technology':3, 'Film':4}\n",
    "\n",
    "# for our text data, we use a count vectorizer\n",
    "stopwords = set(STOPWORDS) | set(ENGLISH_STOP_WORDS)\n",
    "# some additional stopwords based on our own observations\n",
    "stopwords.add('said')\n",
    "stopwords.add('say')\n",
    "stopwords.add('says')\n",
    "stopwords.add('set')\n",
    "\n",
    "# our count vectorizer\n",
    "count_vect = CountVectorizer(stop_words=stopwords)\n",
    "\n",
    "# we will classify using the 'Title' as a criterion\n",
    "category_criteria = 'Title'"
   ]
  },
  {
   "cell_type": "code",
   "execution_count": 6,
   "metadata": {},
   "outputs": [
    {
     "data": {
      "text/html": [
       "<div>\n",
       "<table border=\"1\" class=\"dataframe\">\n",
       "  <thead>\n",
       "    <tr style=\"text-align: right;\">\n",
       "      <th></th>\n",
       "      <th>RowNum</th>\n",
       "      <th>Id</th>\n",
       "      <th>Title</th>\n",
       "      <th>Content</th>\n",
       "      <th>Category</th>\n",
       "    </tr>\n",
       "  </thead>\n",
       "  <tbody>\n",
       "    <tr>\n",
       "      <th>0</th>\n",
       "      <td>9560</td>\n",
       "      <td>9561</td>\n",
       "      <td>Sam Adams founder: Beer is more than just 'col...</td>\n",
       "      <td>The craft beer boom, which and been attributed...</td>\n",
       "      <td>Business</td>\n",
       "    </tr>\n",
       "    <tr>\n",
       "      <th>1</th>\n",
       "      <td>10801</td>\n",
       "      <td>10802</td>\n",
       "      <td>Slump in oil prices could mean fall in investm...</td>\n",
       "      <td>The International Energy Agency has warned tha...</td>\n",
       "      <td>Business</td>\n",
       "    </tr>\n",
       "    <tr>\n",
       "      <th>2</th>\n",
       "      <td>6726</td>\n",
       "      <td>6727</td>\n",
       "      <td>British Gas owner Centrica warns of higher gas...</td>\n",
       "      <td>Senior executives at British have been accused...</td>\n",
       "      <td>Business</td>\n",
       "    </tr>\n",
       "    <tr>\n",
       "      <th>3</th>\n",
       "      <td>12365</td>\n",
       "      <td>12366</td>\n",
       "      <td>Ole Gunnar Solskjaer appointed manager of Card...</td>\n",
       "      <td>is confident he will have complete control of...</td>\n",
       "      <td>Football</td>\n",
       "    </tr>\n",
       "    <tr>\n",
       "      <th>4</th>\n",
       "      <td>11782</td>\n",
       "      <td>11783</td>\n",
       "      <td>Sunderland target loan signings of Kurt Zouma ...</td>\n",
       "      <td>Kurt Zouma and Jack Rodwell are on Sunderland’...</td>\n",
       "      <td>Football</td>\n",
       "    </tr>\n",
       "  </tbody>\n",
       "</table>\n",
       "</div>"
      ],
      "text/plain": [
       "   RowNum     Id                                              Title  \\\n",
       "0    9560   9561  Sam Adams founder: Beer is more than just 'col...   \n",
       "1   10801  10802  Slump in oil prices could mean fall in investm...   \n",
       "2    6726   6727  British Gas owner Centrica warns of higher gas...   \n",
       "3   12365  12366  Ole Gunnar Solskjaer appointed manager of Card...   \n",
       "4   11782  11783  Sunderland target loan signings of Kurt Zouma ...   \n",
       "\n",
       "                                             Content  Category  \n",
       "0  The craft beer boom, which and been attributed...  Business  \n",
       "1  The International Energy Agency has warned tha...  Business  \n",
       "2  Senior executives at British have been accused...  Business  \n",
       "3   is confident he will have complete control of...  Football  \n",
       "4  Kurt Zouma and Jack Rodwell are on Sunderland’...  Football  "
      ]
     },
     "execution_count": 6,
     "metadata": {},
     "output_type": "execute_result"
    }
   ],
   "source": [
    "train_data.head()"
   ]
  },
  {
   "cell_type": "markdown",
   "metadata": {},
   "source": [
    "## Data Preprocessing"
   ]
  },
  {
   "cell_type": "code",
   "execution_count": 7,
   "metadata": {},
   "outputs": [
    {
     "name": "stdout",
     "output_type": "stream",
     "text": [
      "(12266, 13712)\n",
      "(12266, 13712)\n",
      "(3067, 13712)\n",
      "(3067, 13712)\n",
      "target[] sample:\n",
      "[2 2 2 1 1 2 0 1 2 4 2 4 4 4 2 4 0 2 0 0 1 3 0 2 4 1 0 4 2 3 1 0 0 2 1 3 2\n",
      " 0 3 3]\n"
     ]
    }
   ],
   "source": [
    "# for training\n",
    "X_train_counts = count_vect.fit_transform(train_data[category_criteria])\n",
    "tfidf_transformer = TfidfTransformer(use_idf=False).fit(X_train_counts)\n",
    "X_train_tfidf = tfidf_transformer.fit_transform(X_train_counts)\n",
    "print(X_train_counts.shape)\n",
    "print(X_train_counts.shape)\n",
    "\n",
    "# for testing\n",
    "X_test_counts = count_vect.transform(test_data[category_criteria])\n",
    "X_test_tfidf = tfidf_transformer.transform(X_test_counts)\n",
    "print(X_test_counts.shape)\n",
    "print(X_test_tfidf.shape)\n",
    "\n",
    "# we create a 'target' array where we will the category of each of our training data\n",
    "target = []\n",
    "for x in train_data['Category']:\n",
    "    target.append(category_dict[x])\n",
    "\n",
    "target = np.array(target)\n",
    "print(\"target[] sample:\")\n",
    "print(target[:40])"
   ]
  },
  {
   "cell_type": "markdown",
   "metadata": {},
   "source": [
    "Experimenting with Latent Semantic Indexing (LSI) for various number of components:"
   ]
  },
  {
   "cell_type": "code",
   "execution_count": 8,
   "metadata": {},
   "outputs": [
    {
     "name": "stdout",
     "output_type": "stream",
     "text": [
      "Latent Semantic Indexing (LSI) for various number of components: \n",
      "For  100  components:\n",
      "Accuracy:\n",
      "acc ==  0.823414315995\n",
      "0.823414315995\n",
      "For  200  components:\n",
      "Accuracy:\n",
      "acc ==  0.847219957606\n",
      "0.847219957606\n",
      "For  300  components:\n",
      "Accuracy:\n",
      "acc ==  0.861487037339\n",
      "0.861487037339\n",
      "For  400  components:\n",
      "Accuracy:\n",
      "acc ==  0.872574596445\n",
      "0.872574596445\n",
      "For  500  components:\n",
      "Accuracy:\n",
      "acc ==  0.877873797489\n",
      "0.877873797489\n",
      "For  600  components:\n",
      "Accuracy:\n",
      "acc ==  0.882113158324\n",
      "0.882113158324\n"
     ]
    },
    {
     "name": "stderr",
     "output_type": "stream",
     "text": [
      "/home/marinos/.local/lib/python3.5/site-packages/matplotlib/axes/_axes.py:545: UserWarning: No labelled objects found. Use label='...' kwarg on individual plots.\n",
      "  warnings.warn(\"No labelled objects found. \"\n"
     ]
    },
    {
     "data": {
      "image/png": "[encoded data removed]",
      "text/plain": [
       "<matplotlib.figure.Figure at 0x7f78c4d7ef60>"
      ]
     },
     "metadata": {},
     "output_type": "display_data"
    }
   ],
   "source": [
    "print(\"Latent Semantic Indexing (LSI) for various number of components: \")\n",
    "\n",
    "accuracy = []\n",
    "components = []\n",
    "for i in range(6):\n",
    "    components.append(i*100+100)\n",
    "    print(\"For \", components[i], \" components:\")\n",
    "    svd = TruncatedSVD(n_components=components[i])\n",
    "    X_lsi = svd.fit_transform(X_train_tfidf)\n",
    "    clfSVD = SGDClassifier(loss='hinge', penalty='l2', alpha=1e-3, n_iter=5, random_state=42).fit(X_lsi, target)\n",
    "    X_test_lsi = svd.transform(X_train_counts)\n",
    "    predictedSVD = clfSVD.predict(X_test_lsi)\n",
    "    print(\"Accuracy:\")\n",
    "    acc = accuracy_score(target, predictedSVD)\n",
    "    accuracy.append(acc)\n",
    "    print(\"acc == \",acc)\n",
    "    print(accuracy[i])\n",
    "\n",
    "plt1.title('Accuracy = f(Components)')\n",
    "plt1.plot(components, accuracy)\n",
    "plt1.legend(loc = 'lower right')\n",
    "plt1.ylabel('Accuracy')\n",
    "plt1.xlabel('Components')\n",
    "plt1.show()\n",
    "cross_val_instance = 0\n"
   ]
  },
  {
   "cell_type": "markdown",
   "metadata": {},
   "source": [
    "#### Our 10-fold cross validation function"
   ]
  },
  {
   "cell_type": "code",
   "execution_count": 9,
   "metadata": {
    "collapsed": true
   },
   "outputs": [],
   "source": [
    "# 10-FOLD CROSS VALIDATION FOR THE ARGUMENT'S CLASSIFIER\n",
    "# global variable to keep track of how many times we have called the following function\n",
    "cross_val_instance = 0\n",
    "\n",
    "def cross_validate(clf):\n",
    "    global cross_val_instance    # Needed to modify global copy of a global variable\n",
    "    \n",
    "    kf = KFold(n_splits=10)\n",
    "\n",
    "    fold = 0\n",
    "    for train_index, test_index in kf.split(train_data[category_criteria]):\n",
    "        cross_val_instance += 1\n",
    "        \n",
    "        X_train_counts = count_vect.transform(train_data[category_criteria][train_index])\n",
    "        X_test_counts = count_vect.transform(train_data[category_criteria][test_index].values.astype('U'))\n",
    "\n",
    "        clf_cv = clf.fit(X_train_counts, target[train_index])\n",
    "        yPred = clf_cv.predict(X_test_counts)\n",
    "        fold += 1\n",
    "        print (\"Fold \" + str(fold))\n",
    "        \n",
    "        accuracy = accuracy_score(target[test_index], yPred)\n",
    "        mylist['Accuracy'].append(accuracy)\n",
    "        print(\"Accuracy: \", accuracy)\n",
    "        \n",
    "        #A = auc(target[test_index], yPred, reorder=True)\n",
    "        #mylist['AUC'].append(A)\n",
    "        #print(\"AUC: \", A)\n",
    "        \n",
    "        p = metrics.precision_score(target[test_index], yPred, average='macro')\n",
    "        mylist['Precision'].append(p)\n",
    "        print(\"PRESICION: \", p)\n",
    "        \n",
    "        recall = metrics.recall_score(target[test_index], yPred, average='macro') \n",
    "        mylist['Recall'].append(recall)\n",
    "        print(\"Recall: \", recall)\n",
    "        f_1 = metrics.f1_score(target[test_index], yPred, average='micro') \n",
    "        mylist['F-Measure'].append(f_1)\n",
    "        print(\"F-1: \", f_1)\n",
    "        \n",
    "        fpr, tpr, thresholds = metrics.roc_curve(target[test_index], yPred, pos_label=2)\n",
    "        A = metrics.auc(fpr, tpr)\n",
    "        print(\"AUC: \",A)\n",
    "        mylist['AUC'].append(A)\n",
    "        \n",
    "\n",
    "        # construct ROC's plot\n",
    "        plt2.subplot(6, 10, cross_val_instance)\n",
    "        plt2.plot(fpr, tpr, 'b')\n",
    "        plt2.plot([0,1], [0, 1],'r--')\n",
    "        plt2.xlim([0,1])\n",
    "        plt2.ylim([0, 1])"
   ]
  },
  {
   "cell_type": "markdown",
   "metadata": {},
   "source": [
    "## Random Forest (RF) Classification"
   ]
  },
  {
   "cell_type": "markdown",
   "metadata": {},
   "source": [
    "Classifying:"
   ]
  },
  {
   "cell_type": "code",
   "execution_count": 10,
   "metadata": {},
   "outputs": [
    {
     "name": "stdout",
     "output_type": "stream",
     "text": [
      "Syria airstrikes: Jeremy Corbyn gives Labour MPs free vote ---->Politics\n",
      "Apple faces damages bill after jury finds iPhone and iPad chip violates processor patent ---->Technology\n",
      "'I'm sitting next to a weirdo on the bus' and other true meanings of emoji ---->Technology\n",
      "Black Friday 2015: UK retailers serve up alternative options ---->Business\n",
      "A third of boardroom positions should be held by women, UK firms told ---->Business\n",
      "Marks and Spencer customers hit by delays to online shopping orders ---->Business\n",
      "Argos owner sees distorting effect of Black Friday on sales ---->Business\n",
      "TalkTalk says hackers accessed fraction of data originally thought ---->Technology\n",
      "Gameover Zeus returns: thieving malware rises a month after police action ---->Technology\n",
      "TalkTalk boss says cybersecurity 'head and shoulders' above competitors ---->Business\n"
     ]
    }
   ],
   "source": [
    "RANDOM_STATE = 123\n",
    "\n",
    "rndf = RandomForestClassifier(warm_start=True, oob_score=True, max_features=\"sqrt\", random_state=RANDOM_STATE)\n",
    "rndf.set_params(n_estimators=30)\n",
    "rndf.fit(X_train_tfidf, target)\n",
    "\n",
    "predicted = rndf.predict(X_test_tfidf)\n",
    "\n",
    "for x in range(10):\n",
    "    print(test_data['Title'][x] + \"---->\" + categories[predicted[x]])"
   ]
  },
  {
   "cell_type": "code",
   "execution_count": 11,
   "metadata": {
    "collapsed": true
   },
   "outputs": [],
   "source": [
    "i = 0\n",
    "for x in predicted :\n",
    "    testSet['ID'].append(train_data['Id'][i])\n",
    "    testSet_index+=1\n",
    "    i+=1\n",
    "    testSet['Predicted_Category'].append(str(categories[x]))"
   ]
  },
  {
   "cell_type": "markdown",
   "metadata": {},
   "source": [
    "Cross Validating:"
   ]
  },
  {
   "cell_type": "code",
   "execution_count": 12,
   "metadata": {},
   "outputs": [
    {
     "name": "stderr",
     "output_type": "stream",
     "text": [
      "/home/marinos/.local/lib/python3.5/site-packages/sklearn/ensemble/forest.py:303: UserWarning: Warm-start fitting without increasing n_estimators does not fit new trees.\n",
      "  warn(\"Warm-start fitting without increasing n_estimators does not \"\n"
     ]
    },
    {
     "name": "stdout",
     "output_type": "stream",
     "text": [
      "Fold 1\n",
      "Accuracy:  0.991035044825\n",
      "PRESICION:  0.989384749981\n",
      "Recall:  0.990774165485\n",
      "F-1:  0.991035044825\n",
      "AUC:  0.608916764577\n",
      "Fold 2\n",
      "Accuracy:  0.989405052975\n",
      "PRESICION:  0.988332842019\n",
      "Recall:  0.98783237197\n",
      "F-1:  0.989405052975\n",
      "AUC:  0.605693472927\n",
      "Fold 3\n",
      "Accuracy:  0.9902200489\n",
      "PRESICION:  0.989042750174\n",
      "Recall:  0.989098698168\n",
      "F-1:  0.9902200489\n",
      "AUC:  0.610897706836\n",
      "Fold 4\n",
      "Accuracy:  0.9934800326\n",
      "PRESICION:  0.992187953556\n",
      "Recall:  0.992900596293\n",
      "F-1:  0.9934800326\n",
      "AUC:  0.578441318449\n",
      "Fold 5\n",
      "Accuracy:  0.99185004075\n",
      "PRESICION:  0.991220047171\n",
      "Recall:  0.991245588691\n",
      "F-1:  0.99185004075\n",
      "AUC:  0.613842585609\n",
      "Fold 6\n",
      "Accuracy:  0.9869600652\n",
      "PRESICION:  0.985666839531\n",
      "Recall:  0.985452629565\n",
      "F-1:  0.9869600652\n",
      "AUC:  0.597410890514\n",
      "Fold 7\n",
      "Accuracy:  0.987765089723\n",
      "PRESICION:  0.988093186277\n",
      "Recall:  0.987187864585\n",
      "F-1:  0.987765089723\n",
      "AUC:  0.615101675588\n",
      "Fold 8\n",
      "Accuracy:  0.995921696574\n",
      "PRESICION:  0.995205997415\n",
      "Recall:  0.995662410167\n",
      "F-1:  0.995921696574\n",
      "AUC:  0.605170787277\n",
      "Fold 9\n",
      "Accuracy:  0.988580750408\n",
      "PRESICION:  0.987348677484\n",
      "Recall:  0.987790501106\n",
      "F-1:  0.988580750408\n",
      "AUC:  0.5955377115\n",
      "Fold 10\n",
      "Accuracy:  0.989396411093\n",
      "PRESICION:  0.989729307879\n",
      "Recall:  0.988548134965\n",
      "F-1:  0.989396411093\n",
      "AUC:  0.618477939114\n"
     ]
    }
   ],
   "source": [
    "# 10-FOLD CROSS VALIDATION FOR RF CLASSIFICATION\n",
    "mylist = {'Accuracy':[], 'Precision':[], 'Recall':[], 'F-Measure':[], 'AUC':[]}\n",
    "cross_validate(rndf)"
   ]
  },
  {
   "cell_type": "markdown",
   "metadata": {},
   "source": [
    "Store RF's Evaluation Metrics in our dictionary:"
   ]
  },
  {
   "cell_type": "code",
   "execution_count": 13,
   "metadata": {},
   "outputs": [
    {
     "data": {
      "text/plain": [
       "{'KNN': [],\n",
       " 'Naive Bayes': [],\n",
       " 'Random Forest': [0.9896212351486593,\n",
       "  0.98964929609941843,\n",
       "  0.99046142330462883,\n",
       "  0.60494908523923507,\n",
       "  0.99046142330462883],\n",
       " 'SVM': [],\n",
       " 'Statistic Measure': ['Accuracy', 'Precision', 'Recall', 'F-Measure', 'AUC']}"
      ]
     },
     "execution_count": 13,
     "metadata": {},
     "output_type": "execute_result"
    }
   ],
   "source": [
    "EvaluationMetric['Random Forest']=[]\n",
    "EvaluationMetric['Random Forest'].append(np.mean(mylist['Precision']))\n",
    "EvaluationMetric['Random Forest'].append(np.mean(mylist['Recall']))\n",
    "EvaluationMetric['Random Forest'].append(np.mean(mylist['F-Measure']))\n",
    "EvaluationMetric['Random Forest'].append(np.mean(mylist['AUC']))\n",
    "EvaluationMetric['Random Forest'].append(np.mean(mylist['Accuracy']))\n",
    "EvaluationMetric"
   ]
  },
  {
   "cell_type": "markdown",
   "metadata": {},
   "source": [
    "## Support Vector Machines Classification"
   ]
  },
  {
   "cell_type": "markdown",
   "metadata": {},
   "source": [
    "### Part I -- with linear kernel and c=0.2"
   ]
  },
  {
   "cell_type": "markdown",
   "metadata": {},
   "source": [
    "Classifying:"
   ]
  },
  {
   "cell_type": "code",
   "execution_count": 14,
   "metadata": {},
   "outputs": [
    {
     "name": "stdout",
     "output_type": "stream",
     "text": [
      "SVM with linear kernel and c=0.2:\n",
      "Syria airstrikes: Jeremy Corbyn gives Labour MPs free vote ---->Politics\n",
      "Apple faces damages bill after jury finds iPhone and iPad chip violates processor patent ---->Technology\n",
      "'I'm sitting next to a weirdo on the bus' and other true meanings of emoji ---->Film\n",
      "Black Friday 2015: UK retailers serve up alternative options ---->Business\n",
      "A third of boardroom positions should be held by women, UK firms told ---->Business\n",
      "Marks and Spencer customers hit by delays to online shopping orders ---->Business\n",
      "Argos owner sees distorting effect of Black Friday on sales ---->Business\n",
      "TalkTalk says hackers accessed fraction of data originally thought ---->Technology\n",
      "Gameover Zeus returns: thieving malware rises a month after police action ---->Politics\n",
      "TalkTalk boss says cybersecurity 'head and shoulders' above competitors ---->Business\n",
      "[0 3 4 ..., 3 1 1]\n"
     ]
    }
   ],
   "source": [
    "lnr = svm.SVC(C=0.2, kernel='linear')\n",
    "lnr.fit(X_train_tfidf, target)\n",
    "\n",
    "predicted = lnr.predict(X_test_tfidf)\n",
    "\n",
    "print(\"SVM with linear kernel and c=0.2:\")\n",
    "for x in range(10):\n",
    "    print(test_data['Title'][x] + \"---->\" + categories[predicted[x]])\n",
    "    \n",
    "print(predicted)"
   ]
  },
  {
   "cell_type": "code",
   "execution_count": 15,
   "metadata": {},
   "outputs": [
    {
     "name": "stdout",
     "output_type": "stream",
     "text": [
      "6134 6134\n"
     ]
    }
   ],
   "source": [
    "i = 0\n",
    "for x in predicted :\n",
    "    testSet['ID'].append(train_data['Id'][i])\n",
    "    testSet_index+=1\n",
    "    i+=1\n",
    "    testSet['Predicted_Category'].append(str(categories[x]))\n",
    "print(len(testSet['ID']),len(testSet['Predicted_Category']))"
   ]
  },
  {
   "cell_type": "markdown",
   "metadata": {},
   "source": [
    "Cross Validating:"
   ]
  },
  {
   "cell_type": "code",
   "execution_count": 16,
   "metadata": {},
   "outputs": [
    {
     "name": "stdout",
     "output_type": "stream",
     "text": [
      "Fold 1\n",
      "Accuracy:  0.918500407498\n",
      "PRESICION:  0.91757075151\n",
      "Recall:  0.912208434671\n",
      "F-1:  0.918500407498\n",
      "AUC:  0.579489867226\n",
      "Fold 2\n",
      "Accuracy:  0.923390383048\n",
      "PRESICION:  0.921925378451\n",
      "Recall:  0.912066023875\n",
      "F-1:  0.923390383048\n",
      "AUC:  0.569844481019\n",
      "Fold 3\n",
      "Accuracy:  0.908720456398\n",
      "PRESICION:  0.90273893386\n",
      "Recall:  0.901835584143\n",
      "F-1:  0.908720456398\n",
      "AUC:  0.586424587487\n",
      "Fold 4\n",
      "Accuracy:  0.910350448248\n",
      "PRESICION:  0.913037106346\n",
      "Recall:  0.906168113688\n",
      "F-1:  0.910350448248\n",
      "AUC:  0.55192148137\n",
      "Fold 5\n",
      "Accuracy:  0.918500407498\n",
      "PRESICION:  0.912397008362\n",
      "Recall:  0.911178841417\n",
      "F-1:  0.918500407498\n",
      "AUC:  0.594595715794\n",
      "Fold 6\n",
      "Accuracy:  0.896495517522\n",
      "PRESICION:  0.896217842102\n",
      "Recall:  0.886978375802\n",
      "F-1:  0.896495517522\n",
      "AUC:  0.58331204768\n",
      "Fold 7\n",
      "Accuracy:  0.903752039152\n",
      "PRESICION:  0.904609740542\n",
      "Recall:  0.897569501622\n",
      "F-1:  0.903752039152\n",
      "AUC:  0.586655870894\n",
      "Fold 8\n",
      "Accuracy:  0.909461663948\n",
      "PRESICION:  0.907808527014\n",
      "Recall:  0.903905038073\n",
      "F-1:  0.909461663948\n",
      "AUC:  0.570005873872\n",
      "Fold 9\n",
      "Accuracy:  0.92088091354\n",
      "PRESICION:  0.918452002286\n",
      "Recall:  0.911395855922\n",
      "F-1:  0.92088091354\n",
      "AUC:  0.570501864067\n",
      "Fold 10\n",
      "Accuracy:  0.911092985318\n",
      "PRESICION:  0.906778484195\n",
      "Recall:  0.896837544515\n",
      "F-1:  0.911092985318\n",
      "AUC:  0.590438335463\n"
     ]
    }
   ],
   "source": [
    "# 10-FOLD CROSS VALIDATION FOR SVM CLASSIFICATION (I)\n",
    "# with linear kernel and c=0.2\n",
    "mylist = {'Accuracy':[], 'Precision':[], 'Recall':[], 'F-Measure':[], 'AUC':[]}\n",
    "cross_validate(lnr)"
   ]
  },
  {
   "cell_type": "markdown",
   "metadata": {},
   "source": [
    "Store SVM's Evaluation Metrics in our dictionary:"
   ]
  },
  {
   "cell_type": "code",
   "execution_count": 17,
   "metadata": {},
   "outputs": [
    {
     "data": {
      "text/plain": [
       "{'KNN': [],\n",
       " 'Naive Bayes': [],\n",
       " 'Random Forest': [0.9896212351486593,\n",
       "  0.98964929609941843,\n",
       "  0.99046142330462883,\n",
       "  0.60494908523923507,\n",
       "  0.99046142330462883],\n",
       " 'SVM': [0.91211452221694844,\n",
       "  0.91015357746674508,\n",
       "  0.90401433137283504,\n",
       "  0.91211452221694844,\n",
       "  0.57831901248714579],\n",
       " 'Statistic Measure': ['Accuracy', 'Precision', 'Recall', 'F-Measure', 'AUC']}"
      ]
     },
     "execution_count": 17,
     "metadata": {},
     "output_type": "execute_result"
    }
   ],
   "source": [
    "EvaluationMetric['SVM']=[]\n",
    "EvaluationMetric['SVM'].append(np.mean(mylist['Accuracy']))\n",
    "EvaluationMetric['SVM'].append(np.mean(mylist['Precision']))\n",
    "EvaluationMetric['SVM'].append(np.mean(mylist['Recall']))\n",
    "EvaluationMetric['SVM'].append(np.mean(mylist['F-Measure']))\n",
    "EvaluationMetric['SVM'].append(np.mean(mylist['AUC']))\n",
    "EvaluationMetric"
   ]
  },
  {
   "cell_type": "markdown",
   "metadata": {},
   "source": [
    "### Part II -- with rbf kernel, c=5000000.0 and gamma=100000"
   ]
  },
  {
   "cell_type": "markdown",
   "metadata": {},
   "source": [
    "Classifying:"
   ]
  },
  {
   "cell_type": "code",
   "execution_count": 18,
   "metadata": {},
   "outputs": [
    {
     "name": "stdout",
     "output_type": "stream",
     "text": [
      "SVM with rbf kernel, c=5000000.0 and gamma=100000:\n",
      "Syria airstrikes: Jeremy Corbyn gives Labour MPs free vote ---->Football\n",
      "Apple faces damages bill after jury finds iPhone and iPad chip violates processor patent ---->Football\n",
      "'I'm sitting next to a weirdo on the bus' and other true meanings of emoji ---->Football\n",
      "Black Friday 2015: UK retailers serve up alternative options ---->Football\n",
      "A third of boardroom positions should be held by women, UK firms told ---->Football\n",
      "Marks and Spencer customers hit by delays to online shopping orders ---->Football\n",
      "Argos owner sees distorting effect of Black Friday on sales ---->Football\n",
      "TalkTalk says hackers accessed fraction of data originally thought ---->Football\n",
      "Gameover Zeus returns: thieving malware rises a month after police action ---->Football\n",
      "TalkTalk boss says cybersecurity 'head and shoulders' above competitors ---->Football\n"
     ]
    }
   ],
   "source": [
    "rbf = svm.SVC(C=5000000.0, kernel='rbf', gamma=100000)\n",
    "rbf.fit(X_train_tfidf, target)\n",
    "\n",
    "predicted = rbf.predict(X_test_tfidf)\n",
    "\n",
    "print(\"SVM with rbf kernel, c=5000000.0 and gamma=100000:\")\n",
    "for x in range(10):\n",
    "    print(test_data['Title'][x] + \"---->\" + categories[predicted[x]])"
   ]
  },
  {
   "cell_type": "code",
   "execution_count": 19,
   "metadata": {},
   "outputs": [
    {
     "name": "stdout",
     "output_type": "stream",
     "text": [
      "9201 9201\n"
     ]
    }
   ],
   "source": [
    "i = 0\n",
    "for x in predicted :\n",
    "    testSet['ID'].append(train_data['Id'][i])\n",
    "    testSet_index+=1\n",
    "    i+=1\n",
    "    testSet['Predicted_Category'].append(str(categories[x]))\n",
    "print(len(testSet['ID']),len(testSet['Predicted_Category']))"
   ]
  },
  {
   "cell_type": "markdown",
   "metadata": {},
   "source": [
    "Cross Validating:"
   ]
  },
  {
   "cell_type": "code",
   "execution_count": 20,
   "metadata": {},
   "outputs": [
    {
     "name": "stdout",
     "output_type": "stream",
     "text": [
      "Fold 1\n",
      "Accuracy:  0.287693561532\n",
      "PRESICION:  0.816177924217\n",
      "Recall:  0.210933463303\n",
      "F-1:  0.287693561532\n",
      "AUC:  0.502292257009\n",
      "Fold 2\n",
      "Accuracy:  0.264058679707\n",
      "PRESICION:  0.851112943116\n",
      "Recall:  0.213320701982\n",
      "F-1:  0.264058679707\n",
      "AUC:  0.497054968835\n",
      "Fold 3\n",
      "Accuracy:  0.269763651182\n",
      "PRESICION:  0.453594771242\n",
      "Recall:  0.202545908479\n",
      "F-1:  0.269763651182\n",
      "AUC:  0.499490316004\n"
     ]
    },
    {
     "name": "stderr",
     "output_type": "stream",
     "text": [
      "/home/marinos/.local/lib/python3.5/site-packages/sklearn/metrics/classification.py:1113: UndefinedMetricWarning: Precision is ill-defined and being set to 0.0 in labels with no predicted samples.\n",
      "  'precision', 'predicted', average, warn_for)\n"
     ]
    },
    {
     "name": "stdout",
     "output_type": "stream",
     "text": [
      "Fold 4\n",
      "Accuracy:  0.237978810106\n",
      "PRESICION:  0.247346938776\n",
      "Recall:  0.201680672269\n",
      "F-1:  0.237978810106\n",
      "AUC:  0.498944033791\n",
      "Fold 5\n",
      "Accuracy:  0.259983700081\n",
      "PRESICION:  0.251391162029\n",
      "Recall:  0.20462962963\n",
      "F-1:  0.259983700081\n",
      "AUC:  0.497360084477\n",
      "Fold 6\n",
      "Accuracy:  0.257538712306\n",
      "PRESICION:  0.450655737705\n",
      "Recall:  0.207000028203\n",
      "F-1:  0.257538712306\n",
      "AUC:  0.496342737722\n",
      "Fold 7\n",
      "Accuracy:  0.261827079935\n",
      "PRESICION:  0.850906095552\n",
      "Recall:  0.211084844868\n",
      "F-1:  0.261827079935\n",
      "AUC:  0.5006651674\n",
      "Fold 8\n",
      "Accuracy:  0.245513866232\n",
      "PRESICION:  0.448484848485\n",
      "Recall:  0.204539232851\n",
      "F-1:  0.245513866232\n",
      "AUC:  0.499460671757\n",
      "Fold 9\n",
      "Accuracy:  0.26101141925\n",
      "PRESICION:  0.651231527094\n",
      "Recall:  0.206657639184\n",
      "F-1:  0.26101141925\n",
      "AUC:  0.50022751171\n",
      "Fold 10\n",
      "Accuracy:  0.26101141925\n",
      "PRESICION:  0.451109285127\n",
      "Recall:  0.207154692863\n",
      "F-1:  0.26101141925\n",
      "AUC:  0.498434237996\n"
     ]
    }
   ],
   "source": [
    "# 10-FOLD CROSS VALIDATION FOR SVM CLASSIFICATION (II)\n",
    "# with rbf kernel, c=5000000.0 and gamma=100000\n",
    "mylist = {'Accuracy':[], 'Precision':[], 'Recall':[], 'F-Measure':[], 'AUC':[]}\n",
    "cross_validate(rbf)"
   ]
  },
  {
   "cell_type": "markdown",
   "metadata": {},
   "source": [
    "## Naive Bayes Classification "
   ]
  },
  {
   "cell_type": "markdown",
   "metadata": {},
   "source": [
    "### Part I -- with Multinomial Naive Bayes"
   ]
  },
  {
   "cell_type": "markdown",
   "metadata": {},
   "source": [
    "Classifying:"
   ]
  },
  {
   "cell_type": "code",
   "execution_count": 21,
   "metadata": {},
   "outputs": [
    {
     "name": "stdout",
     "output_type": "stream",
     "text": [
      "Multinomial NB:\n",
      "Syria airstrikes: Jeremy Corbyn gives Labour MPs free vote ---->Politics\n",
      "Apple faces damages bill after jury finds iPhone and iPad chip violates processor patent ---->Technology\n",
      "'I'm sitting next to a weirdo on the bus' and other true meanings of emoji ---->Politics\n",
      "Black Friday 2015: UK retailers serve up alternative options ---->Business\n",
      "A third of boardroom positions should be held by women, UK firms told ---->Business\n",
      "Marks and Spencer customers hit by delays to online shopping orders ---->Business\n",
      "Argos owner sees distorting effect of Black Friday on sales ---->Business\n",
      "TalkTalk says hackers accessed fraction of data originally thought ---->Technology\n",
      "Gameover Zeus returns: thieving malware rises a month after police action ---->Business\n",
      "TalkTalk boss says cybersecurity 'head and shoulders' above competitors ---->Business\n"
     ]
    }
   ],
   "source": [
    "mnb = MultinomialNB().fit(X_train_tfidf, target)\n",
    "\n",
    "predicted = mnb.predict(X_test_tfidf)\n",
    "\n",
    "print(\"Multinomial NB:\")\n",
    "for x in range(10):\n",
    "    print(test_data['Title'][x] + \"---->\" + categories[predicted[x]])"
   ]
  },
  {
   "cell_type": "code",
   "execution_count": 22,
   "metadata": {},
   "outputs": [
    {
     "name": "stdout",
     "output_type": "stream",
     "text": [
      "12268 12268\n"
     ]
    }
   ],
   "source": [
    "i = 0\n",
    "for x in predicted :\n",
    "    testSet['ID'].append(train_data['Id'][i])\n",
    "    testSet_index+=1\n",
    "    i+=1\n",
    "    testSet['Predicted_Category'].append(str(categories[x]))\n",
    "print(len(testSet['ID']),len(testSet['Predicted_Category']))"
   ]
  },
  {
   "cell_type": "markdown",
   "metadata": {},
   "source": [
    "Cross Validating:"
   ]
  },
  {
   "cell_type": "code",
   "execution_count": 23,
   "metadata": {},
   "outputs": [
    {
     "name": "stdout",
     "output_type": "stream",
     "text": [
      "Fold 1\n",
      "Accuracy:  0.925835370823\n",
      "PRESICION:  0.923987190541\n",
      "Recall:  0.917789562527\n",
      "F-1:  0.925835370823\n",
      "AUC:  0.592989993933\n",
      "Fold 2\n",
      "Accuracy:  0.926650366748\n",
      "PRESICION:  0.929311760127\n",
      "Recall:  0.915672904382\n",
      "F-1:  0.926650366748\n",
      "AUC:  0.59027682531\n",
      "Fold 3\n",
      "Accuracy:  0.911980440098\n",
      "PRESICION:  0.906239387259\n",
      "Recall:  0.903324389757\n",
      "F-1:  0.911980440098\n",
      "AUC:  0.609163538119\n",
      "Fold 4\n",
      "Accuracy:  0.913610431948\n",
      "PRESICION:  0.913924365586\n",
      "Recall:  0.911180868099\n",
      "F-1:  0.913610431948\n",
      "AUC:  0.559647005582\n",
      "Fold 5\n",
      "Accuracy:  0.920130399348\n",
      "PRESICION:  0.918808367992\n",
      "Recall:  0.914964289279\n",
      "F-1:  0.920130399348\n",
      "AUC:  0.613799215568\n",
      "Fold 6\n",
      "Accuracy:  0.902200488998\n",
      "PRESICION:  0.899175374797\n",
      "Recall:  0.89072561377\n",
      "F-1:  0.902200488998\n",
      "AUC:  0.601993111189\n",
      "Fold 7\n",
      "Accuracy:  0.899673735726\n",
      "PRESICION:  0.896644827667\n",
      "Recall:  0.889089629947\n",
      "F-1:  0.899673735726\n",
      "AUC:  0.597154033765\n",
      "Fold 8\n",
      "Accuracy:  0.924959216966\n",
      "PRESICION:  0.92386627992\n",
      "Recall:  0.91946875373\n",
      "F-1:  0.924959216966\n",
      "AUC:  0.585895587476\n",
      "Fold 9\n",
      "Accuracy:  0.916802610114\n",
      "PRESICION:  0.913418324229\n",
      "Recall:  0.908014455909\n",
      "F-1:  0.916802610114\n",
      "AUC:  0.585389542109\n",
      "Fold 10\n",
      "Accuracy:  0.915171288744\n",
      "PRESICION:  0.908615821276\n",
      "Recall:  0.901152869302\n",
      "F-1:  0.915171288744\n",
      "AUC:  0.598925388714\n"
     ]
    }
   ],
   "source": [
    "# 10-FOLD CROSS VALIDATION FOR NB CLASSIFICATION (I)\n",
    "# with Multinomial Naive Bayes\n",
    "mylist = {'Accuracy':[], 'Precision':[], 'Recall':[], 'F-Measure':[], 'AUC':[]}\n",
    "cross_validate(mnb)"
   ]
  },
  {
   "cell_type": "markdown",
   "metadata": {},
   "source": [
    "Store NB's Evaluation Metrics in our dictionary:"
   ]
  },
  {
   "cell_type": "code",
   "execution_count": 24,
   "metadata": {},
   "outputs": [
    {
     "data": {
      "text/plain": [
       "{'KNN': [],\n",
       " 'Naive Bayes': [0.91570143495122669,\n",
       "  0.91339916993948089,\n",
       "  0.90713833367009133,\n",
       "  0.91570143495122669,\n",
       "  0.59352342417638937],\n",
       " 'Random Forest': [0.9896212351486593,\n",
       "  0.98964929609941843,\n",
       "  0.99046142330462883,\n",
       "  0.60494908523923507,\n",
       "  0.99046142330462883],\n",
       " 'SVM': [0.91211452221694844,\n",
       "  0.91015357746674508,\n",
       "  0.90401433137283504,\n",
       "  0.91211452221694844,\n",
       "  0.57831901248714579],\n",
       " 'Statistic Measure': ['Accuracy', 'Precision', 'Recall', 'F-Measure', 'AUC']}"
      ]
     },
     "execution_count": 24,
     "metadata": {},
     "output_type": "execute_result"
    }
   ],
   "source": [
    "EvaluationMetric['Naive Bayes']=[]\n",
    "EvaluationMetric['Naive Bayes'].append(np.mean(mylist['Accuracy']))\n",
    "EvaluationMetric['Naive Bayes'].append(np.mean(mylist['Precision']))\n",
    "EvaluationMetric['Naive Bayes'].append(np.mean(mylist['Recall']))\n",
    "EvaluationMetric['Naive Bayes'].append(np.mean(mylist['F-Measure']))\n",
    "EvaluationMetric['Naive Bayes'].append(np.mean(mylist['AUC']))\n",
    "EvaluationMetric"
   ]
  },
  {
   "cell_type": "markdown",
   "metadata": {},
   "source": [
    "### Part II -- with Bernoulli Naive Bayes"
   ]
  },
  {
   "cell_type": "markdown",
   "metadata": {},
   "source": [
    "Classifying:"
   ]
  },
  {
   "cell_type": "code",
   "execution_count": 25,
   "metadata": {},
   "outputs": [
    {
     "name": "stdout",
     "output_type": "stream",
     "text": [
      "Bernoulli NB:\n",
      "Syria airstrikes: Jeremy Corbyn gives Labour MPs free vote ---->Politics\n",
      "Apple faces damages bill after jury finds iPhone and iPad chip violates processor patent ---->Technology\n",
      "'I'm sitting next to a weirdo on the bus' and other true meanings of emoji ---->Film\n",
      "Black Friday 2015: UK retailers serve up alternative options ---->Business\n",
      "A third of boardroom positions should be held by women, UK firms told ---->Business\n",
      "Marks and Spencer customers hit by delays to online shopping orders ---->Business\n",
      "Argos owner sees distorting effect of Black Friday on sales ---->Business\n",
      "TalkTalk says hackers accessed fraction of data originally thought ---->Technology\n",
      "Gameover Zeus returns: thieving malware rises a month after police action ---->Business\n",
      "TalkTalk boss says cybersecurity 'head and shoulders' above competitors ---->Business\n"
     ]
    }
   ],
   "source": [
    "bnb = BernoulliNB().fit(X_train_tfidf, target)\n",
    "\n",
    "predicted = bnb.predict(X_test_tfidf)\n",
    "\n",
    "print(\"Bernoulli NB:\")\n",
    "for x in range(10):\n",
    "    print(test_data['Title'][x] + \"---->\" + categories[predicted[x]])"
   ]
  },
  {
   "cell_type": "code",
   "execution_count": 26,
   "metadata": {},
   "outputs": [
    {
     "name": "stdout",
     "output_type": "stream",
     "text": [
      "15335 15335\n"
     ]
    }
   ],
   "source": [
    "for x in predicted :\n",
    "    testSet['ID'].append(testSet_index)\n",
    "    testSet_index+=1\n",
    "    testSet['Predicted_Category'].append(str(categories[x]))\n",
    "\n",
    "print(len(testSet['ID']),len(testSet['Predicted_Category']))"
   ]
  },
  {
   "cell_type": "markdown",
   "metadata": {},
   "source": [
    "Cross Validating:"
   ]
  },
  {
   "cell_type": "code",
   "execution_count": 27,
   "metadata": {},
   "outputs": [
    {
     "name": "stdout",
     "output_type": "stream",
     "text": [
      "Fold 1\n",
      "Accuracy:  0.903015484923\n",
      "PRESICION:  0.914595832371\n",
      "Recall:  0.877694811439\n",
      "F-1:  0.903015484923\n",
      "AUC:  0.612147810261\n",
      "Fold 2\n",
      "Accuracy:  0.898125509372\n",
      "PRESICION:  0.907901236104\n",
      "Recall:  0.869286032524\n",
      "F-1:  0.898125509372\n",
      "AUC:  0.618896584831\n",
      "Fold 3\n",
      "Accuracy:  0.883455582722\n",
      "PRESICION:  0.889049697639\n",
      "Recall:  0.854443218152\n",
      "F-1:  0.883455582722\n",
      "AUC:  0.633932937189\n",
      "Fold 4\n",
      "Accuracy:  0.876935615322\n",
      "PRESICION:  0.890041322743\n",
      "Recall:  0.852510308066\n",
      "F-1:  0.876935615322\n",
      "AUC:  0.593717001056\n",
      "Fold 5\n",
      "Accuracy:  0.899755501222\n",
      "PRESICION:  0.909187880073\n",
      "Recall:  0.877218402294\n",
      "F-1:  0.899755501222\n",
      "AUC:  0.633651380299\n",
      "Fold 6\n",
      "Accuracy:  0.872045639772\n",
      "PRESICION:  0.885517187364\n",
      "Recall:  0.843484833596\n",
      "F-1:  0.872045639772\n",
      "AUC:  0.619931111885\n",
      "Fold 7\n",
      "Accuracy:  0.880913539967\n",
      "PRESICION:  0.891157594469\n",
      "Recall:  0.853978371785\n",
      "F-1:  0.880913539967\n",
      "AUC:  0.621909743119\n",
      "Fold 8\n",
      "Accuracy:  0.89722675367\n",
      "PRESICION:  0.907742229699\n",
      "Recall:  0.874801531248\n",
      "F-1:  0.89722675367\n",
      "AUC:  0.60887844645\n",
      "Fold 9\n",
      "Accuracy:  0.894779771615\n",
      "PRESICION:  0.906654524536\n",
      "Recall:  0.871000101842\n",
      "F-1:  0.894779771615\n",
      "AUC:  0.602525571169\n",
      "Fold 10\n",
      "Accuracy:  0.896411092985\n",
      "PRESICION:  0.899641070472\n",
      "Recall:  0.861458315172\n",
      "F-1:  0.896411092985\n",
      "AUC:  0.622203440002\n"
     ]
    }
   ],
   "source": [
    "# 10-FOLD CROSS VALIDATION FOR NB CLASSIFICATION (II)\n",
    "# with Bernoulli Naive Bayes\n",
    "cross_validate(bnb)"
   ]
  },
  {
   "cell_type": "markdown",
   "metadata": {},
   "source": [
    "## K-Nearest Neighbor Classification"
   ]
  },
  {
   "cell_type": "markdown",
   "metadata": {},
   "source": [
    "#### Our assistant-funtions for the K-Nearest Neighbor Classification"
   ]
  },
  {
   "cell_type": "code",
   "execution_count": 28,
   "metadata": {
    "collapsed": true
   },
   "outputs": [],
   "source": [
    "train_array = svd.fit_transform(X_train_tfidf)\n",
    "test_array = svd.fit_transform(X_test_tfidf)"
   ]
  },
  {
   "cell_type": "code",
   "execution_count": 29,
   "metadata": {
    "collapsed": true
   },
   "outputs": [],
   "source": [
    "# given two data points, calculate the euclidean distance between them\n",
    "def get_distance(data1, data2):\n",
    "    points = zip(data1, data2)\n",
    "    diffs_squared_distance = [pow(a - b, 2) for (a, b) in points]\n",
    "    return math.sqrt(sum(diffs_squared_distance))\n",
    "\n",
    "# a function that returns sorted distances between a test case and all training cases\n",
    "def get_neighbours(training_set, test_instance, k):\n",
    "    distances = [_get_tuple_distance(training_instance, test_instance) for training_instance in training_set]\n",
    "    # index 1 is the calculated distance between training_instance and test_instance\n",
    "    sorted_distances = sorted(distances, key=itemgetter(1))\n",
    "    # extract only training instances\n",
    "    sorted_training_instances = [tuple[0] for tuple in sorted_distances]\n",
    "    # select first k elements\n",
    "    return sorted_training_instances[:k]\n",
    " \n",
    "def _get_tuple_distance(training_instance, test_instance):\n",
    "    return (training_instance, get_distance(test_instance, training_instance))\n",
    "\n",
    "# given an array of nearest neighbours for a test case, tally up their classes to vote on test case class\n",
    "def get_majority_vote(neighbours):\n",
    "    # index 1 is the class\n",
    "    classes = [neighbour[1] for neighbour in neighbours]\n",
    "    count = Counter(classes)\n",
    "    return count.most_common()[0][0]"
   ]
  },
  {
   "cell_type": "markdown",
   "metadata": {},
   "source": [
    "#### Our K-Nearest Neighbor Classification function"
   ]
  },
  {
   "cell_type": "code",
   "execution_count": 30,
   "metadata": {
    "collapsed": true
   },
   "outputs": [],
   "source": [
    "# generate predictions\n",
    "def KNN(train_array,test_array): #synarthsh pou epistrefeei thn lista me ta predictions\n",
    "    predictions = []\n",
    "    # let's arbitrarily set k equal to 3\n",
    "    k = 3\n",
    "\n",
    "    # for each instance in the test set, get nearest neighbours and majority vote on predicted class\n",
    "    for x in range(len(test_array)):#mono ta prwta 5\n",
    "        #print('Classifying test instance number ' + str(x) + \":\")\n",
    "        neighbours = get_neighbours(training_set=train_array, test_instance=test_array[x], k=2)\n",
    "        majority_vote = get_majority_vote(neighbours)\n",
    "        predictions.append(majority_vote)\n",
    "        #print ('Predicted label=' + str(majority_vote) + ', Actual label=' + str(test_array[x][1]))\n",
    "    for y in range(len(predictions)):\n",
    "        predictions[y] = math.ceil(predictions[y])\n",
    "    #print(predictions)\n",
    "    return predictions"
   ]
  },
  {
   "cell_type": "code",
   "execution_count": 31,
   "metadata": {},
   "outputs": [
    {
     "name": "stdout",
     "output_type": "stream",
     "text": [
      "50\n"
     ]
    }
   ],
   "source": [
    "print(cross_val_instance)"
   ]
  },
  {
   "cell_type": "markdown",
   "metadata": {},
   "source": [
    "#### Our K-Nearest Neighbor Cross Validation function"
   ]
  },
  {
   "cell_type": "code",
   "execution_count": 32,
   "metadata": {},
   "outputs": [
    {
     "name": "stdout",
     "output_type": "stream",
     "text": [
      "Fold 1\n",
      "Accuracy:  0.133333333333\n",
      "PRESICION:  0.0275862068966\n",
      "Recall:  0.16\n",
      "F-1:  0.133333333333\n",
      "AUC:  0.525\n"
     ]
    },
    {
     "name": "stderr",
     "output_type": "stream",
     "text": [
      "/home/marinos/.local/lib/python3.5/site-packages/sklearn/metrics/classification.py:1113: UndefinedMetricWarning: Precision is ill-defined and being set to 0.0 in labels with no predicted samples.\n",
      "  'precision', 'predicted', average, warn_for)\n"
     ]
    },
    {
     "name": "stdout",
     "output_type": "stream",
     "text": [
      "Fold 2\n",
      "Accuracy:  0.0666666666667\n",
      "PRESICION:  0.0153846153846\n",
      "Recall:  0.08\n",
      "F-1:  0.0666666666667\n",
      "AUC:  0.5\n",
      "Fold 3\n",
      "Accuracy:  0.133333333333\n",
      "PRESICION:  0.0685714285714\n",
      "Recall:  0.0945454545455\n",
      "F-1:  0.133333333333\n",
      "AUC:  0.520833333333\n",
      "Fold 4\n",
      "Accuracy:  0.133333333333\n",
      "PRESICION:  0.0285714285714\n",
      "Recall:  0.133333333333\n",
      "F-1:  0.133333333333\n",
      "AUC:  0.5\n",
      "Fold 5\n",
      "Accuracy:  0.3\n",
      "PRESICION:  0.160256410256\n",
      "Recall:  0.253472222222\n",
      "F-1:  0.3\n",
      "AUC:  0.536931818182\n",
      "Fold 6\n",
      "Accuracy:  0.1\n",
      "PRESICION:  0.024\n",
      "Recall:  0.075\n",
      "F-1:  0.1\n",
      "AUC:  0.521739130435\n",
      "Fold 7\n",
      "Accuracy:  0.233333333333\n",
      "PRESICION:  0.0538461538462\n",
      "Recall:  0.127272727273\n",
      "F-1:  0.233333333333\n",
      "AUC:  0.54\n",
      "Fold 8\n",
      "Accuracy:  0.133333333333\n",
      "PRESICION:  0.0384615384615\n",
      "Recall:  0.125\n",
      "F-1:  0.133333333333\n",
      "AUC:  0.590909090909\n",
      "Fold 9\n",
      "Accuracy:  0.233333333333\n",
      "PRESICION:  0.048275862069\n",
      "Recall:  0.175\n",
      "F-1:  0.233333333333\n",
      "AUC:  0.48\n",
      "Fold 10\n",
      "Accuracy:  0.2\n",
      "PRESICION:  0.0444444444444\n",
      "Recall:  0.133333333333\n",
      "F-1:  0.2\n",
      "AUC:  0.52\n"
     ]
    }
   ],
   "source": [
    "# 10-FOLD CROSS VALIDATION FOR THE ARGUMENT'S CLASSIFIER\n",
    "# global variable to keep track of how many times we have called the following function\n",
    "mylist = {'Accuracy':[], 'Precision':[], 'Recall':[], 'F-Measure':[], 'AUC':[]}\n",
    "global cross_val_instance    # Needed to modify global copy of a global variable\n",
    "    \n",
    "kf = KFold(n_splits=10)\n",
    "\n",
    "fold = 0\n",
    "for train_index, test_index in kf.split(train_data[category_criteria]):\n",
    "    cross_val_instance += 1\n",
    "\n",
    "    X_train_counts = count_vect.transform(train_data[category_criteria][train_index])\n",
    "    X_test_counts = count_vect.transform(train_data[category_criteria][test_index].values.astype('U'))\n",
    "\n",
    "    #clf_cv = clf.fit(X_train_counts, target[train_index])\n",
    "    #yPred = clf_cv.predict(X_test_counts)\n",
    "    X_train_counts = svd.fit_transform(X_train_counts)\n",
    "    X_test_counts = svd.fit_transform(X_test_counts)\n",
    "    X_test_counts = X_test_counts[0:30]    # we take only the first 5\n",
    "    test_index = test_index[0:30]\n",
    "    yPred = KNN( X_train_counts ,  X_test_counts )\n",
    "    fold += 1\n",
    "    print (\"Fold \" + str(fold))\n",
    "\n",
    "    accuracy = accuracy_score(target[test_index], yPred)\n",
    "    mylist['Accuracy'].append(accuracy)\n",
    "    print(\"Accuracy: \", accuracy)\n",
    "\n",
    "#     A = auc(target[test_index], yPred, reorder=True)\n",
    "#     mylist['AUC'].append(A)\n",
    "#     print(\"AUC: \", A)\n",
    "\n",
    "    p = metrics.precision_score(target[test_index], yPred, average='macro')\n",
    "    mylist['Precision'].append(p)\n",
    "    print(\"PRESICION: \", p)\n",
    "\n",
    "    recall = metrics.recall_score(target[test_index], yPred, average='macro') \n",
    "    mylist['Recall'].append(recall)\n",
    "    print(\"Recall: \", recall)\n",
    "    f_1 = metrics.f1_score(target[test_index], yPred, average='micro') \n",
    "    mylist['F-Measure'].append(f_1)\n",
    "    print(\"F-1: \", f_1)\n",
    "\n",
    "    fpr, tpr, thresholds = metrics.roc_curve(target[test_index], yPred, pos_label=2)\n",
    "    A = metrics.auc(fpr, tpr)\n",
    "    print(\"AUC: \", A)\n",
    "    mylist['AUC'].append(A)\n",
    "        \n",
    "    # construct ROC's plot\n",
    "    plt2.subplot(6, 10, cross_val_instance)\n",
    "    plt2.plot(fpr, tpr, 'b')"
   ]
  },
  {
   "cell_type": "markdown",
   "metadata": {},
   "source": [
    "Store KNN's Evaluation Metrics in our dictionary:"
   ]
  },
  {
   "cell_type": "code",
   "execution_count": 33,
   "metadata": {},
   "outputs": [
    {
     "data": {
      "text/plain": [
       "{'KNN': [0.16666666666666669,\n",
       "  0.05093980885015368,\n",
       "  0.13569570707070705,\n",
       "  0.16666666666666669,\n",
       "  0.52354133728590246],\n",
       " 'Naive Bayes': [0.91570143495122669,\n",
       "  0.91339916993948089,\n",
       "  0.90713833367009133,\n",
       "  0.91570143495122669,\n",
       "  0.59352342417638937],\n",
       " 'Random Forest': [0.9896212351486593,\n",
       "  0.98964929609941843,\n",
       "  0.99046142330462883,\n",
       "  0.60494908523923507,\n",
       "  0.99046142330462883],\n",
       " 'SVM': [0.91211452221694844,\n",
       "  0.91015357746674508,\n",
       "  0.90401433137283504,\n",
       "  0.91211452221694844,\n",
       "  0.57831901248714579],\n",
       " 'Statistic Measure': ['Accuracy', 'Precision', 'Recall', 'F-Measure', 'AUC']}"
      ]
     },
     "execution_count": 33,
     "metadata": {},
     "output_type": "execute_result"
    }
   ],
   "source": [
    "EvaluationMetric['KNN'] =[]\n",
    "EvaluationMetric['KNN'].append(np.mean(mylist['Accuracy']))\n",
    "EvaluationMetric['KNN'].append(np.mean(mylist['Precision']))\n",
    "EvaluationMetric['KNN'].append(np.mean(mylist['Recall']))\n",
    "EvaluationMetric['KNN'].append(np.mean(mylist['F-Measure']))\n",
    "EvaluationMetric['KNN'].append(np.mean(mylist['AUC']))\n",
    "EvaluationMetric"
   ]
  },
  {
   "cell_type": "markdown",
   "metadata": {},
   "source": [
    "## Presenting our Results"
   ]
  },
  {
   "cell_type": "markdown",
   "metadata": {},
   "source": [
    "We present our 10-fold Cross Validation's Evaluation Metrics:"
   ]
  },
  {
   "cell_type": "code",
   "execution_count": 34,
   "metadata": {},
   "outputs": [
    {
     "data": {
      "text/html": [
       "<div>\n",
       "<table border=\"1\" class=\"dataframe\">\n",
       "  <thead>\n",
       "    <tr style=\"text-align: right;\">\n",
       "      <th></th>\n",
       "      <th>KNN</th>\n",
       "      <th>Naive Bayes</th>\n",
       "      <th>Random Forest</th>\n",
       "      <th>SVM</th>\n",
       "      <th>Statistic Measure</th>\n",
       "    </tr>\n",
       "  </thead>\n",
       "  <tbody>\n",
       "    <tr>\n",
       "      <th>0</th>\n",
       "      <td>0.166667</td>\n",
       "      <td>0.915701</td>\n",
       "      <td>0.989621</td>\n",
       "      <td>0.912115</td>\n",
       "      <td>Accuracy</td>\n",
       "    </tr>\n",
       "    <tr>\n",
       "      <th>1</th>\n",
       "      <td>0.050940</td>\n",
       "      <td>0.913399</td>\n",
       "      <td>0.989649</td>\n",
       "      <td>0.910154</td>\n",
       "      <td>Precision</td>\n",
       "    </tr>\n",
       "    <tr>\n",
       "      <th>2</th>\n",
       "      <td>0.135696</td>\n",
       "      <td>0.907138</td>\n",
       "      <td>0.990461</td>\n",
       "      <td>0.904014</td>\n",
       "      <td>Recall</td>\n",
       "    </tr>\n",
       "    <tr>\n",
       "      <th>3</th>\n",
       "      <td>0.166667</td>\n",
       "      <td>0.915701</td>\n",
       "      <td>0.604949</td>\n",
       "      <td>0.912115</td>\n",
       "      <td>F-Measure</td>\n",
       "    </tr>\n",
       "    <tr>\n",
       "      <th>4</th>\n",
       "      <td>0.523541</td>\n",
       "      <td>0.593523</td>\n",
       "      <td>0.990461</td>\n",
       "      <td>0.578319</td>\n",
       "      <td>AUC</td>\n",
       "    </tr>\n",
       "  </tbody>\n",
       "</table>\n",
       "</div>"
      ],
      "text/plain": [
       "        KNN  Naive Bayes  Random Forest       SVM Statistic Measure\n",
       "0  0.166667     0.915701       0.989621  0.912115          Accuracy\n",
       "1  0.050940     0.913399       0.989649  0.910154         Precision\n",
       "2  0.135696     0.907138       0.990461  0.904014            Recall\n",
       "3  0.166667     0.915701       0.604949  0.912115         F-Measure\n",
       "4  0.523541     0.593523       0.990461  0.578319               AUC"
      ]
     },
     "execution_count": 34,
     "metadata": {},
     "output_type": "execute_result"
    }
   ],
   "source": [
    "# creating the dataframe\n",
    "EvaluationMetric_10fold = pd.DataFrame(data=EvaluationMetric)\n",
    "EvaluationMetric_10fold"
   ]
  },
  {
   "cell_type": "code",
   "execution_count": 35,
   "metadata": {},
   "outputs": [
    {
     "data": {
      "text/html": [
       "<div>\n",
       "<table border=\"1\" class=\"dataframe\">\n",
       "  <thead>\n",
       "    <tr style=\"text-align: right;\">\n",
       "      <th></th>\n",
       "      <th>Statistic Measure</th>\n",
       "      <th>Naive Bayes</th>\n",
       "      <th>Random Forest</th>\n",
       "      <th>SVM</th>\n",
       "      <th>KNN</th>\n",
       "    </tr>\n",
       "  </thead>\n",
       "  <tbody>\n",
       "    <tr>\n",
       "      <th>0</th>\n",
       "      <td>Accuracy</td>\n",
       "      <td>0.915701</td>\n",
       "      <td>0.989621</td>\n",
       "      <td>0.912115</td>\n",
       "      <td>0.166667</td>\n",
       "    </tr>\n",
       "    <tr>\n",
       "      <th>1</th>\n",
       "      <td>Precision</td>\n",
       "      <td>0.913399</td>\n",
       "      <td>0.989649</td>\n",
       "      <td>0.910154</td>\n",
       "      <td>0.050940</td>\n",
       "    </tr>\n",
       "    <tr>\n",
       "      <th>2</th>\n",
       "      <td>Recall</td>\n",
       "      <td>0.907138</td>\n",
       "      <td>0.990461</td>\n",
       "      <td>0.904014</td>\n",
       "      <td>0.135696</td>\n",
       "    </tr>\n",
       "    <tr>\n",
       "      <th>3</th>\n",
       "      <td>F-Measure</td>\n",
       "      <td>0.915701</td>\n",
       "      <td>0.604949</td>\n",
       "      <td>0.912115</td>\n",
       "      <td>0.166667</td>\n",
       "    </tr>\n",
       "    <tr>\n",
       "      <th>4</th>\n",
       "      <td>AUC</td>\n",
       "      <td>0.593523</td>\n",
       "      <td>0.990461</td>\n",
       "      <td>0.578319</td>\n",
       "      <td>0.523541</td>\n",
       "    </tr>\n",
       "  </tbody>\n",
       "</table>\n",
       "</div>"
      ],
      "text/plain": [
       "  Statistic Measure  Naive Bayes  Random Forest       SVM       KNN\n",
       "0          Accuracy     0.915701       0.989621  0.912115  0.166667\n",
       "1         Precision     0.913399       0.989649  0.910154  0.050940\n",
       "2            Recall     0.907138       0.990461  0.904014  0.135696\n",
       "3         F-Measure     0.915701       0.604949  0.912115  0.166667\n",
       "4               AUC     0.593523       0.990461  0.578319  0.523541"
      ]
     },
     "execution_count": 35,
     "metadata": {},
     "output_type": "execute_result"
    }
   ],
   "source": [
    "# making sure that the dataframe will be printed with the columns in the correct order\n",
    "EvaluationMetric_10fold = EvaluationMetric_10fold.ix[::, ['Statistic Measure', 'Naive Bayes', 'Random Forest', 'SVM', 'KNN']]\n",
    "EvaluationMetric_10fold"
   ]
  },
  {
   "cell_type": "code",
   "execution_count": 36,
   "metadata": {
    "collapsed": true
   },
   "outputs": [],
   "source": [
    "# creating the evaluation metrics' csv file\n",
    "EvaluationMetric_10fold.to_csv(path_or_buf='EvaluationMetric_10fold.csv', sep='\\t', index=False)"
   ]
  },
  {
   "cell_type": "code",
   "execution_count": 37,
   "metadata": {},
   "outputs": [
    {
     "data": {
      "image/png": "[encoded data removed]",
      "text/plain": [
       "<matplotlib.figure.Figure at 0x7f78c4d85d68>"
      ]
     },
     "metadata": {},
     "output_type": "display_data"
    }
   ],
   "source": [
    "# save as .png and then show plot\n",
    "plt2.savefig(\"roc_10fold.png\")\n",
    "plt2.show()"
   ]
  },
  {
   "cell_type": "code",
   "execution_count": 38,
   "metadata": {},
   "outputs": [
    {
     "name": "stdout",
     "output_type": "stream",
     "text": [
      "15335 15335\n"
     ]
    }
   ],
   "source": [
    "print(len(testSet['ID']),len(testSet['Predicted_Category']))"
   ]
  },
  {
   "cell_type": "code",
   "execution_count": 39,
   "metadata": {},
   "outputs": [
    {
     "data": {
      "text/html": [
       "<div>\n",
       "<table border=\"1\" class=\"dataframe\">\n",
       "  <thead>\n",
       "    <tr style=\"text-align: right;\">\n",
       "      <th></th>\n",
       "      <th>ID</th>\n",
       "      <th>Predicted_Category</th>\n",
       "    </tr>\n",
       "  </thead>\n",
       "  <tbody>\n",
       "    <tr>\n",
       "      <th>0</th>\n",
       "      <td>9561</td>\n",
       "      <td>Politics</td>\n",
       "    </tr>\n",
       "    <tr>\n",
       "      <th>1</th>\n",
       "      <td>10802</td>\n",
       "      <td>Technology</td>\n",
       "    </tr>\n",
       "    <tr>\n",
       "      <th>2</th>\n",
       "      <td>6727</td>\n",
       "      <td>Technology</td>\n",
       "    </tr>\n",
       "    <tr>\n",
       "      <th>3</th>\n",
       "      <td>12366</td>\n",
       "      <td>Business</td>\n",
       "    </tr>\n",
       "    <tr>\n",
       "      <th>4</th>\n",
       "      <td>11783</td>\n",
       "      <td>Business</td>\n",
       "    </tr>\n",
       "    <tr>\n",
       "      <th>5</th>\n",
       "      <td>14177</td>\n",
       "      <td>Business</td>\n",
       "    </tr>\n",
       "    <tr>\n",
       "      <th>6</th>\n",
       "      <td>308</td>\n",
       "      <td>Business</td>\n",
       "    </tr>\n",
       "    <tr>\n",
       "      <th>7</th>\n",
       "      <td>13636</td>\n",
       "      <td>Technology</td>\n",
       "    </tr>\n",
       "    <tr>\n",
       "      <th>8</th>\n",
       "      <td>1042</td>\n",
       "      <td>Technology</td>\n",
       "    </tr>\n",
       "    <tr>\n",
       "      <th>9</th>\n",
       "      <td>1227</td>\n",
       "      <td>Business</td>\n",
       "    </tr>\n",
       "    <tr>\n",
       "      <th>10</th>\n",
       "      <td>4042</td>\n",
       "      <td>Film</td>\n",
       "    </tr>\n",
       "    <tr>\n",
       "      <th>11</th>\n",
       "      <td>2578</td>\n",
       "      <td>Business</td>\n",
       "    </tr>\n",
       "    <tr>\n",
       "      <th>12</th>\n",
       "      <td>3615</td>\n",
       "      <td>Technology</td>\n",
       "    </tr>\n",
       "    <tr>\n",
       "      <th>13</th>\n",
       "      <td>1661</td>\n",
       "      <td>Business</td>\n",
       "    </tr>\n",
       "    <tr>\n",
       "      <th>14</th>\n",
       "      <td>3242</td>\n",
       "      <td>Business</td>\n",
       "    </tr>\n",
       "    <tr>\n",
       "      <th>15</th>\n",
       "      <td>10178</td>\n",
       "      <td>Business</td>\n",
       "    </tr>\n",
       "    <tr>\n",
       "      <th>16</th>\n",
       "      <td>3533</td>\n",
       "      <td>Business</td>\n",
       "    </tr>\n",
       "    <tr>\n",
       "      <th>17</th>\n",
       "      <td>8749</td>\n",
       "      <td>Technology</td>\n",
       "    </tr>\n",
       "    <tr>\n",
       "      <th>18</th>\n",
       "      <td>8127</td>\n",
       "      <td>Technology</td>\n",
       "    </tr>\n",
       "    <tr>\n",
       "      <th>19</th>\n",
       "      <td>3745</td>\n",
       "      <td>Technology</td>\n",
       "    </tr>\n",
       "    <tr>\n",
       "      <th>20</th>\n",
       "      <td>12163</td>\n",
       "      <td>Technology</td>\n",
       "    </tr>\n",
       "    <tr>\n",
       "      <th>21</th>\n",
       "      <td>10901</td>\n",
       "      <td>Business</td>\n",
       "    </tr>\n",
       "    <tr>\n",
       "      <th>22</th>\n",
       "      <td>7669</td>\n",
       "      <td>Business</td>\n",
       "    </tr>\n",
       "    <tr>\n",
       "      <th>23</th>\n",
       "      <td>569</td>\n",
       "      <td>Business</td>\n",
       "    </tr>\n",
       "    <tr>\n",
       "      <th>24</th>\n",
       "      <td>3053</td>\n",
       "      <td>Film</td>\n",
       "    </tr>\n",
       "    <tr>\n",
       "      <th>25</th>\n",
       "      <td>12288</td>\n",
       "      <td>Football</td>\n",
       "    </tr>\n",
       "    <tr>\n",
       "      <th>26</th>\n",
       "      <td>1320</td>\n",
       "      <td>Business</td>\n",
       "    </tr>\n",
       "    <tr>\n",
       "      <th>27</th>\n",
       "      <td>13094</td>\n",
       "      <td>Business</td>\n",
       "    </tr>\n",
       "    <tr>\n",
       "      <th>28</th>\n",
       "      <td>3426</td>\n",
       "      <td>Technology</td>\n",
       "    </tr>\n",
       "    <tr>\n",
       "      <th>29</th>\n",
       "      <td>4273</td>\n",
       "      <td>Politics</td>\n",
       "    </tr>\n",
       "    <tr>\n",
       "      <th>...</th>\n",
       "      <td>...</td>\n",
       "      <td>...</td>\n",
       "    </tr>\n",
       "    <tr>\n",
       "      <th>15305</th>\n",
       "      <td>15305</td>\n",
       "      <td>Football</td>\n",
       "    </tr>\n",
       "    <tr>\n",
       "      <th>15306</th>\n",
       "      <td>15306</td>\n",
       "      <td>Football</td>\n",
       "    </tr>\n",
       "    <tr>\n",
       "      <th>15307</th>\n",
       "      <td>15307</td>\n",
       "      <td>Football</td>\n",
       "    </tr>\n",
       "    <tr>\n",
       "      <th>15308</th>\n",
       "      <td>15308</td>\n",
       "      <td>Football</td>\n",
       "    </tr>\n",
       "    <tr>\n",
       "      <th>15309</th>\n",
       "      <td>15309</td>\n",
       "      <td>Football</td>\n",
       "    </tr>\n",
       "    <tr>\n",
       "      <th>15310</th>\n",
       "      <td>15310</td>\n",
       "      <td>Football</td>\n",
       "    </tr>\n",
       "    <tr>\n",
       "      <th>15311</th>\n",
       "      <td>15311</td>\n",
       "      <td>Football</td>\n",
       "    </tr>\n",
       "    <tr>\n",
       "      <th>15312</th>\n",
       "      <td>15312</td>\n",
       "      <td>Football</td>\n",
       "    </tr>\n",
       "    <tr>\n",
       "      <th>15313</th>\n",
       "      <td>15313</td>\n",
       "      <td>Football</td>\n",
       "    </tr>\n",
       "    <tr>\n",
       "      <th>15314</th>\n",
       "      <td>15314</td>\n",
       "      <td>Football</td>\n",
       "    </tr>\n",
       "    <tr>\n",
       "      <th>15315</th>\n",
       "      <td>15315</td>\n",
       "      <td>Football</td>\n",
       "    </tr>\n",
       "    <tr>\n",
       "      <th>15316</th>\n",
       "      <td>15316</td>\n",
       "      <td>Football</td>\n",
       "    </tr>\n",
       "    <tr>\n",
       "      <th>15317</th>\n",
       "      <td>15317</td>\n",
       "      <td>Football</td>\n",
       "    </tr>\n",
       "    <tr>\n",
       "      <th>15318</th>\n",
       "      <td>15318</td>\n",
       "      <td>Football</td>\n",
       "    </tr>\n",
       "    <tr>\n",
       "      <th>15319</th>\n",
       "      <td>15319</td>\n",
       "      <td>Technology</td>\n",
       "    </tr>\n",
       "    <tr>\n",
       "      <th>15320</th>\n",
       "      <td>15320</td>\n",
       "      <td>Business</td>\n",
       "    </tr>\n",
       "    <tr>\n",
       "      <th>15321</th>\n",
       "      <td>15321</td>\n",
       "      <td>Business</td>\n",
       "    </tr>\n",
       "    <tr>\n",
       "      <th>15322</th>\n",
       "      <td>15322</td>\n",
       "      <td>Football</td>\n",
       "    </tr>\n",
       "    <tr>\n",
       "      <th>15323</th>\n",
       "      <td>15323</td>\n",
       "      <td>Football</td>\n",
       "    </tr>\n",
       "    <tr>\n",
       "      <th>15324</th>\n",
       "      <td>15324</td>\n",
       "      <td>Film</td>\n",
       "    </tr>\n",
       "    <tr>\n",
       "      <th>15325</th>\n",
       "      <td>15325</td>\n",
       "      <td>Football</td>\n",
       "    </tr>\n",
       "    <tr>\n",
       "      <th>15326</th>\n",
       "      <td>15326</td>\n",
       "      <td>Football</td>\n",
       "    </tr>\n",
       "    <tr>\n",
       "      <th>15327</th>\n",
       "      <td>15327</td>\n",
       "      <td>Football</td>\n",
       "    </tr>\n",
       "    <tr>\n",
       "      <th>15328</th>\n",
       "      <td>15328</td>\n",
       "      <td>Football</td>\n",
       "    </tr>\n",
       "    <tr>\n",
       "      <th>15329</th>\n",
       "      <td>15329</td>\n",
       "      <td>Football</td>\n",
       "    </tr>\n",
       "    <tr>\n",
       "      <th>15330</th>\n",
       "      <td>15330</td>\n",
       "      <td>Film</td>\n",
       "    </tr>\n",
       "    <tr>\n",
       "      <th>15331</th>\n",
       "      <td>15331</td>\n",
       "      <td>Football</td>\n",
       "    </tr>\n",
       "    <tr>\n",
       "      <th>15332</th>\n",
       "      <td>15332</td>\n",
       "      <td>Business</td>\n",
       "    </tr>\n",
       "    <tr>\n",
       "      <th>15333</th>\n",
       "      <td>15333</td>\n",
       "      <td>Football</td>\n",
       "    </tr>\n",
       "    <tr>\n",
       "      <th>15334</th>\n",
       "      <td>15334</td>\n",
       "      <td>Football</td>\n",
       "    </tr>\n",
       "  </tbody>\n",
       "</table>\n",
       "<p>15335 rows × 2 columns</p>\n",
       "</div>"
      ],
      "text/plain": [
       "          ID Predicted_Category\n",
       "0       9561           Politics\n",
       "1      10802         Technology\n",
       "2       6727         Technology\n",
       "3      12366           Business\n",
       "4      11783           Business\n",
       "5      14177           Business\n",
       "6        308           Business\n",
       "7      13636         Technology\n",
       "8       1042         Technology\n",
       "9       1227           Business\n",
       "10      4042               Film\n",
       "11      2578           Business\n",
       "12      3615         Technology\n",
       "13      1661           Business\n",
       "14      3242           Business\n",
       "15     10178           Business\n",
       "16      3533           Business\n",
       "17      8749         Technology\n",
       "18      8127         Technology\n",
       "19      3745         Technology\n",
       "20     12163         Technology\n",
       "21     10901           Business\n",
       "22      7669           Business\n",
       "23       569           Business\n",
       "24      3053               Film\n",
       "25     12288           Football\n",
       "26      1320           Business\n",
       "27     13094           Business\n",
       "28      3426         Technology\n",
       "29      4273           Politics\n",
       "...      ...                ...\n",
       "15305  15305           Football\n",
       "15306  15306           Football\n",
       "15307  15307           Football\n",
       "15308  15308           Football\n",
       "15309  15309           Football\n",
       "15310  15310           Football\n",
       "15311  15311           Football\n",
       "15312  15312           Football\n",
       "15313  15313           Football\n",
       "15314  15314           Football\n",
       "15315  15315           Football\n",
       "15316  15316           Football\n",
       "15317  15317           Football\n",
       "15318  15318           Football\n",
       "15319  15319         Technology\n",
       "15320  15320           Business\n",
       "15321  15321           Business\n",
       "15322  15322           Football\n",
       "15323  15323           Football\n",
       "15324  15324               Film\n",
       "15325  15325           Football\n",
       "15326  15326           Football\n",
       "15327  15327           Football\n",
       "15328  15328           Football\n",
       "15329  15329           Football\n",
       "15330  15330               Film\n",
       "15331  15331           Football\n",
       "15332  15332           Business\n",
       "15333  15333           Football\n",
       "15334  15334           Football\n",
       "\n",
       "[15335 rows x 2 columns]"
      ]
     },
     "execution_count": 39,
     "metadata": {},
     "output_type": "execute_result"
    }
   ],
   "source": [
    "# printing our test set's data frame\n",
    "testSetpd = pd.DataFrame(data=testSet)\n",
    "testSetpd"
   ]
  },
  {
   "cell_type": "code",
   "execution_count": 40,
   "metadata": {
    "collapsed": true
   },
   "outputs": [],
   "source": [
    "testSetcsv = testSetpd.ix[::, ['ID', 'Predicted_Category']]"
   ]
  },
  {
   "cell_type": "code",
   "execution_count": 41,
   "metadata": {
    "collapsed": true
   },
   "outputs": [],
   "source": [
    "testSetcsv.to_csv(path_or_buf='testSet_categories.csv', sep = '\\t')"
   ]
  },
  {
   "cell_type": "code",
   "execution_count": null,
   "metadata": {
    "collapsed": true
   },
   "outputs": [],
   "source": []
  }
 ],
 "metadata": {
  "kernelspec": {
   "display_name": "Python 2",
   "language": "python",
   "name": "python2"
  },
  "language_info": {
   "codemirror_mode": {
    "name": "ipython",
    "version": 3
   },
   "file_extension": ".py",
   "mimetype": "text/x-python",
   "name": "python",
   "nbconvert_exporter": "python",
   "pygments_lexer": "ipython3",
   "version": "3.5.2"
  }
 },
 "nbformat": 4,
 "nbformat_minor": 2
}
