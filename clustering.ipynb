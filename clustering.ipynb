{
 "cells": [
  {
   "cell_type": "markdown",
   "metadata": {
    "collapsed": true
   },
   "source": [
    "# Part 2 -- Clustering "
   ]
  },
  {
   "cell_type": "markdown",
   "metadata": {},
   "source": [
    "The libraries that we are going to use:"
   ]
  },
  {
   "cell_type": "code",
   "execution_count": 14,
   "metadata": {
    "collapsed": true
   },
   "outputs": [],
   "source": [
    "import pandas as pd\n",
    "import scipy as sc\n",
    "import numpy as np\n",
    "import nltk\n",
    "from sklearn.feature_extraction.text import TfidfVectorizer\n",
    "from sklearn.metrics import adjusted_rand_score\n",
    "from wordcloud import STOPWORDS\n",
    "from sklearn.feature_extraction.text import CountVectorizer\n",
    "from sklearn.feature_extraction.text import ENGLISH_STOP_WORDS\n",
    "from scipy.spatial.distance import cosine\n",
    "from nltk.cluster.kmeans import KMeansClusterer\n",
    "from numpy import array\n",
    "from __future__ import division\n",
    "from nltk import cluster\n",
    "from nltk.cluster import euclidean_distance\n",
    "from nltk.cluster import cosine_distance\n",
    "from sklearn.decomposition import TruncatedSVD\n",
    "from collections import Counter"
   ]
  },
  {
   "cell_type": "markdown",
   "metadata": {},
   "source": [
    "## Setting up"
   ]
  },
  {
   "cell_type": "markdown",
   "metadata": {},
   "source": [
    "We read our training data:"
   ]
  },
  {
   "cell_type": "code",
   "execution_count": 15,
   "metadata": {
    "scrolled": true
   },
   "outputs": [
    {
     "data": {
      "text/html": [
       "<div>\n",
       "<table border=\"1\" class=\"dataframe\">\n",
       "  <thead>\n",
       "    <tr style=\"text-align: right;\">\n",
       "      <th></th>\n",
       "      <th>RowNum</th>\n",
       "      <th>Id</th>\n",
       "      <th>Title</th>\n",
       "      <th>Content</th>\n",
       "      <th>Category</th>\n",
       "    </tr>\n",
       "  </thead>\n",
       "  <tbody>\n",
       "    <tr>\n",
       "      <th>0</th>\n",
       "      <td>9560</td>\n",
       "      <td>9561</td>\n",
       "      <td>Sam Adams founder: Beer is more than just 'col...</td>\n",
       "      <td>The craft beer boom, which and been attributed...</td>\n",
       "      <td>Business</td>\n",
       "    </tr>\n",
       "    <tr>\n",
       "      <th>1</th>\n",
       "      <td>10801</td>\n",
       "      <td>10802</td>\n",
       "      <td>Slump in oil prices could mean fall in investm...</td>\n",
       "      <td>The International Energy Agency has warned tha...</td>\n",
       "      <td>Business</td>\n",
       "    </tr>\n",
       "    <tr>\n",
       "      <th>2</th>\n",
       "      <td>6726</td>\n",
       "      <td>6727</td>\n",
       "      <td>British Gas owner Centrica warns of higher gas...</td>\n",
       "      <td>Senior executives at British have been accused...</td>\n",
       "      <td>Business</td>\n",
       "    </tr>\n",
       "    <tr>\n",
       "      <th>3</th>\n",
       "      <td>12365</td>\n",
       "      <td>12366</td>\n",
       "      <td>Ole Gunnar Solskjaer appointed manager of Card...</td>\n",
       "      <td>is confident he will have complete control of...</td>\n",
       "      <td>Football</td>\n",
       "    </tr>\n",
       "    <tr>\n",
       "      <th>4</th>\n",
       "      <td>11782</td>\n",
       "      <td>11783</td>\n",
       "      <td>Sunderland target loan signings of Kurt Zouma ...</td>\n",
       "      <td>Kurt Zouma and Jack Rodwell are on Sunderland’...</td>\n",
       "      <td>Football</td>\n",
       "    </tr>\n",
       "  </tbody>\n",
       "</table>\n",
       "</div>"
      ],
      "text/plain": [
       "   RowNum     Id                                              Title  \\\n",
       "0    9560   9561  Sam Adams founder: Beer is more than just 'col...   \n",
       "1   10801  10802  Slump in oil prices could mean fall in investm...   \n",
       "2    6726   6727  British Gas owner Centrica warns of higher gas...   \n",
       "3   12365  12366  Ole Gunnar Solskjaer appointed manager of Card...   \n",
       "4   11782  11783  Sunderland target loan signings of Kurt Zouma ...   \n",
       "\n",
       "                                             Content  Category  \n",
       "0  The craft beer boom, which and been attributed...  Business  \n",
       "1  The International Energy Agency has warned tha...  Business  \n",
       "2  Senior executives at British have been accused...  Business  \n",
       "3   is confident he will have complete control of...  Football  \n",
       "4  Kurt Zouma and Jack Rodwell are on Sunderland’...  Football  "
      ]
     },
     "execution_count": 15,
     "metadata": {},
     "output_type": "execute_result"
    }
   ],
   "source": [
    "mydata = pd.read_csv('train_set.csv', sep='\\t')\n",
    "mydata.head()"
   ]
  },
  {
   "cell_type": "markdown",
   "metadata": {},
   "source": [
    "We declare the stopwords that we are going to use:"
   ]
  },
  {
   "cell_type": "code",
   "execution_count": 16,
   "metadata": {
    "collapsed": true
   },
   "outputs": [],
   "source": [
    "# declaring our stopwords\n",
    "stopwords = set(STOPWORDS) | set(ENGLISH_STOP_WORDS)\n",
    "# some additional stopwords based on our own observations\n",
    "stopwords.add('said')\n",
    "stopwords.add('say')\n",
    "stopwords.add('says')\n",
    "stopwords.add('set')"
   ]
  },
  {
   "cell_type": "markdown",
   "metadata": {},
   "source": [
    "We declare our vectorizer, which is a *TfidfVectorizer (term-frequency times inverse document-frequency vectorizer)*, and we pass our data through him:"
   ]
  },
  {
   "cell_type": "code",
   "execution_count": 17,
   "metadata": {},
   "outputs": [],
   "source": [
    "vectorizer = TfidfVectorizer(stop_words=stopwords)\n",
    "X = vectorizer.fit_transform(mydata['Content'])\n",
    "svd = TruncatedSVD(n_components=100)\n",
    "X_lsi = svd.fit_transform(X)\n",
    "vectors = X_lsi\n",
    "\n"
   ]
  },
  {
   "cell_type": "markdown",
   "metadata": {},
   "source": [
    "## K-Means Clustering"
   ]
  },
  {
   "cell_type": "markdown",
   "metadata": {},
   "source": [
    "We implement K-Means using Cosine Similarity as a distance function:"
   ]
  },
  {
   "cell_type": "code",
   "execution_count": 18,
   "metadata": {
    "collapsed": true
   },
   "outputs": [],
   "source": [
    "# A IMPLEMENTATION OF CLUSTERING WITH KMEANS USING COSINE SIMILARITY, UTILIZING COMPONENTS OF THE NLTK LIBRARY\n",
    "clusterer = cluster.KMeansClusterer(5, cosine_distance, repeats=1)"
   ]
  },
  {
   "cell_type": "code",
   "execution_count": 19,
   "metadata": {
    "scrolled": true
   },
   "outputs": [
    {
     "name": "stdout",
     "output_type": "stream",
     "text": [
      "k-means trial 0\n",
      "iteration\n"
     ]
    },
    {
     "name": "stderr",
     "output_type": "stream",
     "text": [
      "/home/marinos/.local/lib/python3.5/site-packages/nltk/cluster/util.py:127: RuntimeWarning: invalid value encountered in double_scalars\n",
      "  return 1 - (numpy.dot(u, v) / (sqrt(numpy.dot(u, u)) * sqrt(numpy.dot(v, v))))\n"
     ]
    },
    {
     "name": "stdout",
     "output_type": "stream",
     "text": [
      "iteration\n",
      "iteration\n",
      "iteration\n",
      "iteration\n",
      "iteration\n",
      "iteration\n",
      "iteration\n",
      "iteration\n",
      "iteration\n",
      "iteration\n"
     ]
    }
   ],
   "source": [
    "clusters_array = clusterer.cluster(vectors, True, trace=True) # we take a list of our clusters"
   ]
  },
  {
   "cell_type": "markdown",
   "metadata": {},
   "source": [
    "## Printing Clustering Results"
   ]
  },
  {
   "cell_type": "markdown",
   "metadata": {},
   "source": [
    "We will now work towards printing our Clustering's results in a nice way..."
   ]
  },
  {
   "cell_type": "code",
   "execution_count": 20,
   "metadata": {},
   "outputs": [],
   "source": [
    "our_dict = {'0':[], '1':[], '2':[], '3':[], '4':[]}\n",
    "\n",
    "counter = 0\n",
    "\n",
    "# we create a dictionary that for each cluster has the numbers of the texts that belong to it\n",
    "for x in clusters_array :\n",
    "    our_dict[str(x)] += [counter]\n",
    "    counter +=1\n",
    "\n"
   ]
  },
  {
   "cell_type": "code",
   "execution_count": 21,
   "metadata": {},
   "outputs": [
    {
     "name": "stdout",
     "output_type": "stream",
     "text": [
      "Counter({'Politics': [], '': [], 'Technology': [], 'Film': [], 'Football': [], 'Business': []})\n"
     ]
    }
   ],
   "source": [
    "cnt = Counter()\n",
    "# our categories\n",
    "categories =['Politics', 'Football', 'Business', 'Technology', 'Film']\n",
    "\n",
    "# we create a counter-dictionary based on the above categories\n",
    "for x in categories :\n",
    "        cnt[x] =[]\n",
    "\n",
    "cnt[''] =[]\n",
    "print(cnt)"
   ]
  },
  {
   "cell_type": "code",
   "execution_count": 22,
   "metadata": {
    "collapsed": true
   },
   "outputs": [],
   "source": [
    "data_categories = mydata['Category']"
   ]
  },
  {
   "cell_type": "code",
   "execution_count": 23,
   "metadata": {
    "collapsed": true
   },
   "outputs": [],
   "source": [
    "# we will have 5 clusters\n",
    "clusters=['Cluster_0', 'Cluster_1', 'Cluster_2', 'Cluster_3', 'Cluster_4']\n",
    "# we have 5 categories\n",
    "categoryl = ['Politics', 'Business', 'Football', 'Film', 'Technology']"
   ]
  },
  {
   "cell_type": "code",
   "execution_count": 24,
   "metadata": {},
   "outputs": [
    {
     "name": "stdout",
     "output_type": "stream",
     "text": [
      "{'': ['Cluster_0', 'Cluster_1', 'Cluster_2', 'Cluster_3', 'Cluster_4'], 'Politics': [0.012581344902386117, 0, 0.016467915956842712, 0.08723632463353606, 0.9698574338085683], 'Technology': [0.01822125813449024, 0.0033921302578018998, 0.79954571266326, 0.006435466571326421, 0.0036659877800407333], 'Film': [0.9600867678958269, 0.0010176390773405698, 0.00908574673480977, 0.001787629603146228, 0.0012219959266802445], 'Football': [0.004772234273318872, 0.9932157394844525, 0.09199318568994895, 0.0032177332856632105, 0.004480651731160897], 'Business': [0.004338394793926247, 0.0023744911804613293, 0.08290743895513918, 0.9013228459062983, 0.020773930753564145]}\n"
     ]
    }
   ],
   "source": [
    "outdict = {'':clusters, 'Technology':[], 'Politics':[], 'Business':[], 'Football':[], 'Film':[]}\n",
    "\n",
    "for cluster_num in range(len(our_dict)): # for each cluster\n",
    "    count = {}\n",
    "    cluster_length = len(our_dict[str(cluster_num)])\n",
    "    \n",
    "    for x in our_dict[str(cluster_num)]:\n",
    "        category = data_categories[x]  # this way we take the category\n",
    "        if category in count:\n",
    "            count[str(category)] += 1/cluster_length\n",
    "        else:\n",
    "            count[str(category)] = 1/cluster_length\n",
    "    \n",
    "    for category in categoryl: # we create our dictionary\n",
    "        if str(category) in count:\n",
    "            outdict[str(category)] += [count[str(category)]]\n",
    "        else:\n",
    "            outdict[str(category)] += [0]\n",
    "\n",
    "print(outdict)"
   ]
  },
  {
   "cell_type": "markdown",
   "metadata": {},
   "source": [
    "We create a dataframe with the above data, which we then print to a .csv file:"
   ]
  },
  {
   "cell_type": "code",
   "execution_count": 25,
   "metadata": {},
   "outputs": [
    {
     "data": {
      "text/html": [
       "<div>\n",
       "<table border=\"1\" class=\"dataframe\">\n",
       "  <thead>\n",
       "    <tr style=\"text-align: right;\">\n",
       "      <th></th>\n",
       "      <th></th>\n",
       "      <th>Business</th>\n",
       "      <th>Film</th>\n",
       "      <th>Football</th>\n",
       "      <th>Politics</th>\n",
       "      <th>Technology</th>\n",
       "    </tr>\n",
       "  </thead>\n",
       "  <tbody>\n",
       "    <tr>\n",
       "      <th>0</th>\n",
       "      <td>Cluster_0</td>\n",
       "      <td>0.004338</td>\n",
       "      <td>0.960087</td>\n",
       "      <td>0.004772</td>\n",
       "      <td>0.012581</td>\n",
       "      <td>0.018221</td>\n",
       "    </tr>\n",
       "    <tr>\n",
       "      <th>1</th>\n",
       "      <td>Cluster_1</td>\n",
       "      <td>0.002374</td>\n",
       "      <td>0.001018</td>\n",
       "      <td>0.993216</td>\n",
       "      <td>0.000000</td>\n",
       "      <td>0.003392</td>\n",
       "    </tr>\n",
       "    <tr>\n",
       "      <th>2</th>\n",
       "      <td>Cluster_2</td>\n",
       "      <td>0.082907</td>\n",
       "      <td>0.009086</td>\n",
       "      <td>0.091993</td>\n",
       "      <td>0.016468</td>\n",
       "      <td>0.799546</td>\n",
       "    </tr>\n",
       "    <tr>\n",
       "      <th>3</th>\n",
       "      <td>Cluster_3</td>\n",
       "      <td>0.901323</td>\n",
       "      <td>0.001788</td>\n",
       "      <td>0.003218</td>\n",
       "      <td>0.087236</td>\n",
       "      <td>0.006435</td>\n",
       "    </tr>\n",
       "    <tr>\n",
       "      <th>4</th>\n",
       "      <td>Cluster_4</td>\n",
       "      <td>0.020774</td>\n",
       "      <td>0.001222</td>\n",
       "      <td>0.004481</td>\n",
       "      <td>0.969857</td>\n",
       "      <td>0.003666</td>\n",
       "    </tr>\n",
       "  </tbody>\n",
       "</table>\n",
       "</div>"
      ],
      "text/plain": [
       "              Business      Film  Football  Politics  Technology\n",
       "0  Cluster_0  0.004338  0.960087  0.004772  0.012581    0.018221\n",
       "1  Cluster_1  0.002374  0.001018  0.993216  0.000000    0.003392\n",
       "2  Cluster_2  0.082907  0.009086  0.091993  0.016468    0.799546\n",
       "3  Cluster_3  0.901323  0.001788  0.003218  0.087236    0.006435\n",
       "4  Cluster_4  0.020774  0.001222  0.004481  0.969857    0.003666"
      ]
     },
     "execution_count": 25,
     "metadata": {},
     "output_type": "execute_result"
    }
   ],
   "source": [
    "# creating the dataframe\n",
    "out_pd = pd.DataFrame(data=outdict)\n",
    "out_pd"
   ]
  },
  {
   "cell_type": "code",
   "execution_count": 26,
   "metadata": {
    "collapsed": true
   },
   "outputs": [],
   "source": [
    "# creating the csv file\n",
    "out_pd = out_pd.ix[::, ['', 'Politics', 'Business', 'Football', 'Film', 'Technology']]\n",
    "out_pd.to_csv(path_or_buf='clustering_KMeans.csv', sep='\\t', index=False)"
   ]
  }
 ],
 "metadata": {
  "kernelspec": {
   "display_name": "Python 2",
   "language": "python",
   "name": "python2"
  },
  "language_info": {
   "codemirror_mode": {
    "name": "ipython",
    "version": 3
   },
   "file_extension": ".py",
   "mimetype": "text/x-python",
   "name": "python",
   "nbconvert_exporter": "python",
   "pygments_lexer": "ipython3",
   "version": "3.5.2"
  }
 },
 "nbformat": 4,
 "nbformat_minor": 2
}
